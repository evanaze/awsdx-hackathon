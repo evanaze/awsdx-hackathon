{
 "cells": [
  {
   "cell_type": "code",
   "execution_count": 54,
   "id": "0aa5665a",
   "metadata": {},
   "outputs": [],
   "source": [
    "import os\n",
    "import json\n",
    "import pandas as pd"
   ]
  },
  {
   "cell_type": "code",
   "execution_count": 56,
   "id": "b5fa0737",
   "metadata": {},
   "outputs": [],
   "source": [
    "with open(\"../data/emp_data.json\") as infile:\n",
    "    unemployment = json.load(infile)"
   ]
  },
  {
   "cell_type": "code",
   "execution_count": 69,
   "id": "fb9d0656",
   "metadata": {},
   "outputs": [],
   "source": [
    "for series in unemployment[\"series\"][\"docs\"]:\n",
    "    if (county := series[\"dimensions\"][\"county\"]) != \"NA\":\n",
    "        df = pd.DataFrame(index=series[\"period\"], data=series[\"value\"], columns=[\"value\"])\n",
    "        df.to_parquet(f\"../data/emp_data_county/{county}.parquet\", engine=\"pyarrow\")"
   ]
  },
  {
   "cell_type": "code",
   "execution_count": null,
   "id": "6758def2",
   "metadata": {},
   "outputs": [],
   "source": []
  }
 ],
 "metadata": {
  "kernelspec": {
   "display_name": "awsdx-hackathon",
   "language": "python",
   "name": "awsdx-hackathon"
  },
  "language_info": {
   "codemirror_mode": {
    "name": "ipython",
    "version": 3
   },
   "file_extension": ".py",
   "mimetype": "text/x-python",
   "name": "python",
   "nbconvert_exporter": "python",
   "pygments_lexer": "ipython3",
   "version": "3.8.15"
  }
 },
 "nbformat": 4,
 "nbformat_minor": 5
}
