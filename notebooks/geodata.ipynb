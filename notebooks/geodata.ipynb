{
 "cells": [
  {
   "cell_type": "markdown",
   "id": "e30e427b",
   "metadata": {},
   "source": [
    "# Geodata Manipulation\n",
    "\n",
    "EDA and data manipulation of GIS data using H3, Geopandas, and Shapely."
   ]
  },
  {
   "cell_type": "code",
   "execution_count": 9,
   "id": "f12b5c0a",
   "metadata": {},
   "outputs": [],
   "source": [
    "import json\n",
    "from typing import List\n",
    "\n",
    "import h3\n",
    "import pandas as pd\n",
    "import dask.dataframe as dd"
   ]
  },
  {
   "cell_type": "code",
   "execution_count": 12,
   "id": "461f1333",
   "metadata": {},
   "outputs": [
    {
     "ename": "KeyboardInterrupt",
     "evalue": "",
     "output_type": "error",
     "traceback": [
      "\u001b[0;31m---------------------------------------------------------------------------\u001b[0m",
      "\u001b[0;31mKeyboardInterrupt\u001b[0m                         Traceback (most recent call last)",
      "Cell \u001b[0;32mIn [12], line 42\u001b[0m\n\u001b[1;32m     39\u001b[0m zipfile \u001b[38;5;241m=\u001b[39m os\u001b[38;5;241m.\u001b[39mlistdir(datadir)[\u001b[38;5;241m0\u001b[39m]\n\u001b[1;32m     40\u001b[0m path \u001b[38;5;241m=\u001b[39m os\u001b[38;5;241m.\u001b[39mpath\u001b[38;5;241m.\u001b[39mjoin(datadir, zipfile)\n\u001b[0;32m---> 42\u001b[0m gdf \u001b[38;5;241m=\u001b[39m (\u001b[43mget_geodata\u001b[49m\u001b[43m(\u001b[49m\u001b[43mpath\u001b[49m\u001b[43m)\u001b[49m\n\u001b[1;32m     43\u001b[0m \u001b[43m       \u001b[49m\u001b[38;5;241;43m.\u001b[39;49m\u001b[43mpipe\u001b[49m\u001b[43m(\u001b[49m\u001b[43mprepare_districts\u001b[49m\u001b[43m)\u001b[49m\n\u001b[1;32m     44\u001b[0m \u001b[43m       \u001b[49m\u001b[38;5;241;43m.\u001b[39;49m\u001b[43mpipe\u001b[49m\u001b[43m(\u001b[49m\u001b[43mhex_fill_df\u001b[49m\u001b[43m)\u001b[49m\n\u001b[1;32m     45\u001b[0m       )\n",
      "File \u001b[0;32m~/.pyenv/versions/awsdx-hackathon/lib/python3.8/site-packages/pandas/core/generic.py:5839\u001b[0m, in \u001b[0;36mNDFrame.pipe\u001b[0;34m(self, func, *args, **kwargs)\u001b[0m\n\u001b[1;32m   5781\u001b[0m \u001b[38;5;129m@final\u001b[39m\n\u001b[1;32m   5782\u001b[0m \u001b[38;5;129m@doc\u001b[39m(klass\u001b[38;5;241m=\u001b[39m_shared_doc_kwargs[\u001b[38;5;124m\"\u001b[39m\u001b[38;5;124mklass\u001b[39m\u001b[38;5;124m\"\u001b[39m])\n\u001b[1;32m   5783\u001b[0m \u001b[38;5;28;01mdef\u001b[39;00m \u001b[38;5;21mpipe\u001b[39m(\n\u001b[0;32m   (...)\u001b[0m\n\u001b[1;32m   5787\u001b[0m     \u001b[38;5;241m*\u001b[39m\u001b[38;5;241m*\u001b[39mkwargs,\n\u001b[1;32m   5788\u001b[0m ) \u001b[38;5;241m-\u001b[39m\u001b[38;5;241m>\u001b[39m T:\n\u001b[1;32m   5789\u001b[0m     \u001b[38;5;124mr\u001b[39m\u001b[38;5;124;03m\"\"\"\u001b[39;00m\n\u001b[1;32m   5790\u001b[0m \u001b[38;5;124;03m    Apply chainable functions that expect Series or DataFrames.\u001b[39;00m\n\u001b[1;32m   5791\u001b[0m \n\u001b[0;32m   (...)\u001b[0m\n\u001b[1;32m   5837\u001b[0m \u001b[38;5;124;03m    ...  )  # doctest: +SKIP\u001b[39;00m\n\u001b[1;32m   5838\u001b[0m \u001b[38;5;124;03m    \"\"\"\u001b[39;00m\n\u001b[0;32m-> 5839\u001b[0m     \u001b[38;5;28;01mreturn\u001b[39;00m \u001b[43mcom\u001b[49m\u001b[38;5;241;43m.\u001b[39;49m\u001b[43mpipe\u001b[49m\u001b[43m(\u001b[49m\u001b[38;5;28;43mself\u001b[39;49m\u001b[43m,\u001b[49m\u001b[43m \u001b[49m\u001b[43mfunc\u001b[49m\u001b[43m,\u001b[49m\u001b[43m \u001b[49m\u001b[38;5;241;43m*\u001b[39;49m\u001b[43margs\u001b[49m\u001b[43m,\u001b[49m\u001b[43m \u001b[49m\u001b[38;5;241;43m*\u001b[39;49m\u001b[38;5;241;43m*\u001b[39;49m\u001b[43mkwargs\u001b[49m\u001b[43m)\u001b[49m\n",
      "File \u001b[0;32m~/.pyenv/versions/awsdx-hackathon/lib/python3.8/site-packages/pandas/core/common.py:503\u001b[0m, in \u001b[0;36mpipe\u001b[0;34m(obj, func, *args, **kwargs)\u001b[0m\n\u001b[1;32m    501\u001b[0m     \u001b[38;5;28;01mreturn\u001b[39;00m func(\u001b[38;5;241m*\u001b[39margs, \u001b[38;5;241m*\u001b[39m\u001b[38;5;241m*\u001b[39mkwargs)\n\u001b[1;32m    502\u001b[0m \u001b[38;5;28;01melse\u001b[39;00m:\n\u001b[0;32m--> 503\u001b[0m     \u001b[38;5;28;01mreturn\u001b[39;00m \u001b[43mfunc\u001b[49m\u001b[43m(\u001b[49m\u001b[43mobj\u001b[49m\u001b[43m,\u001b[49m\u001b[43m \u001b[49m\u001b[38;5;241;43m*\u001b[39;49m\u001b[43margs\u001b[49m\u001b[43m,\u001b[49m\u001b[43m \u001b[49m\u001b[38;5;241;43m*\u001b[39;49m\u001b[38;5;241;43m*\u001b[39;49m\u001b[43mkwargs\u001b[49m\u001b[43m)\u001b[49m\n",
      "Cell \u001b[0;32mIn [12], line 36\u001b[0m, in \u001b[0;36mhex_fill_df\u001b[0;34m(gdf)\u001b[0m\n\u001b[1;32m     34\u001b[0m \u001b[38;5;28;01mdef\u001b[39;00m \u001b[38;5;21mhex_fill_df\u001b[39m(gdf):\n\u001b[1;32m     35\u001b[0m     \u001b[38;5;124;03m\"\"\"Fill the tracts with hexagons.\"\"\"\u001b[39;00m\n\u001b[0;32m---> 36\u001b[0m     \u001b[38;5;28;01mreturn\u001b[39;00m gdf\u001b[38;5;241m.\u001b[39massign(hex_fill \u001b[38;5;241m=\u001b[39m \u001b[43mgdf\u001b[49m\u001b[43m[\u001b[49m\u001b[38;5;124;43m\"\u001b[39;49m\u001b[38;5;124;43mgeom_swap_geojson\u001b[39;49m\u001b[38;5;124;43m\"\u001b[39;49m\u001b[43m]\u001b[49m\u001b[38;5;241;43m.\u001b[39;49m\u001b[43mapply\u001b[49m\u001b[43m(\u001b[49m\u001b[43mhex_fill_tract\u001b[49m\u001b[43m)\u001b[49m)\n",
      "File \u001b[0;32m~/.pyenv/versions/awsdx-hackathon/lib/python3.8/site-packages/pandas/core/series.py:4771\u001b[0m, in \u001b[0;36mSeries.apply\u001b[0;34m(self, func, convert_dtype, args, **kwargs)\u001b[0m\n\u001b[1;32m   4661\u001b[0m \u001b[38;5;28;01mdef\u001b[39;00m \u001b[38;5;21mapply\u001b[39m(\n\u001b[1;32m   4662\u001b[0m     \u001b[38;5;28mself\u001b[39m,\n\u001b[1;32m   4663\u001b[0m     func: AggFuncType,\n\u001b[0;32m   (...)\u001b[0m\n\u001b[1;32m   4666\u001b[0m     \u001b[38;5;241m*\u001b[39m\u001b[38;5;241m*\u001b[39mkwargs,\n\u001b[1;32m   4667\u001b[0m ) \u001b[38;5;241m-\u001b[39m\u001b[38;5;241m>\u001b[39m DataFrame \u001b[38;5;241m|\u001b[39m Series:\n\u001b[1;32m   4668\u001b[0m     \u001b[38;5;124;03m\"\"\"\u001b[39;00m\n\u001b[1;32m   4669\u001b[0m \u001b[38;5;124;03m    Invoke function on values of Series.\u001b[39;00m\n\u001b[1;32m   4670\u001b[0m \n\u001b[0;32m   (...)\u001b[0m\n\u001b[1;32m   4769\u001b[0m \u001b[38;5;124;03m    dtype: float64\u001b[39;00m\n\u001b[1;32m   4770\u001b[0m \u001b[38;5;124;03m    \"\"\"\u001b[39;00m\n\u001b[0;32m-> 4771\u001b[0m     \u001b[38;5;28;01mreturn\u001b[39;00m \u001b[43mSeriesApply\u001b[49m\u001b[43m(\u001b[49m\u001b[38;5;28;43mself\u001b[39;49m\u001b[43m,\u001b[49m\u001b[43m \u001b[49m\u001b[43mfunc\u001b[49m\u001b[43m,\u001b[49m\u001b[43m \u001b[49m\u001b[43mconvert_dtype\u001b[49m\u001b[43m,\u001b[49m\u001b[43m \u001b[49m\u001b[43margs\u001b[49m\u001b[43m,\u001b[49m\u001b[43m \u001b[49m\u001b[43mkwargs\u001b[49m\u001b[43m)\u001b[49m\u001b[38;5;241;43m.\u001b[39;49m\u001b[43mapply\u001b[49m\u001b[43m(\u001b[49m\u001b[43m)\u001b[49m\n",
      "File \u001b[0;32m~/.pyenv/versions/awsdx-hackathon/lib/python3.8/site-packages/pandas/core/apply.py:1105\u001b[0m, in \u001b[0;36mSeriesApply.apply\u001b[0;34m(self)\u001b[0m\n\u001b[1;32m   1102\u001b[0m     \u001b[38;5;28;01mreturn\u001b[39;00m \u001b[38;5;28mself\u001b[39m\u001b[38;5;241m.\u001b[39mapply_str()\n\u001b[1;32m   1104\u001b[0m \u001b[38;5;66;03m# self.f is Callable\u001b[39;00m\n\u001b[0;32m-> 1105\u001b[0m \u001b[38;5;28;01mreturn\u001b[39;00m \u001b[38;5;28;43mself\u001b[39;49m\u001b[38;5;241;43m.\u001b[39;49m\u001b[43mapply_standard\u001b[49m\u001b[43m(\u001b[49m\u001b[43m)\u001b[49m\n",
      "File \u001b[0;32m~/.pyenv/versions/awsdx-hackathon/lib/python3.8/site-packages/pandas/core/apply.py:1156\u001b[0m, in \u001b[0;36mSeriesApply.apply_standard\u001b[0;34m(self)\u001b[0m\n\u001b[1;32m   1154\u001b[0m     \u001b[38;5;28;01melse\u001b[39;00m:\n\u001b[1;32m   1155\u001b[0m         values \u001b[38;5;241m=\u001b[39m obj\u001b[38;5;241m.\u001b[39mastype(\u001b[38;5;28mobject\u001b[39m)\u001b[38;5;241m.\u001b[39m_values\n\u001b[0;32m-> 1156\u001b[0m         mapped \u001b[38;5;241m=\u001b[39m \u001b[43mlib\u001b[49m\u001b[38;5;241;43m.\u001b[39;49m\u001b[43mmap_infer\u001b[49m\u001b[43m(\u001b[49m\n\u001b[1;32m   1157\u001b[0m \u001b[43m            \u001b[49m\u001b[43mvalues\u001b[49m\u001b[43m,\u001b[49m\n\u001b[1;32m   1158\u001b[0m \u001b[43m            \u001b[49m\u001b[43mf\u001b[49m\u001b[43m,\u001b[49m\n\u001b[1;32m   1159\u001b[0m \u001b[43m            \u001b[49m\u001b[43mconvert\u001b[49m\u001b[38;5;241;43m=\u001b[39;49m\u001b[38;5;28;43mself\u001b[39;49m\u001b[38;5;241;43m.\u001b[39;49m\u001b[43mconvert_dtype\u001b[49m\u001b[43m,\u001b[49m\n\u001b[1;32m   1160\u001b[0m \u001b[43m        \u001b[49m\u001b[43m)\u001b[49m\n\u001b[1;32m   1162\u001b[0m \u001b[38;5;28;01mif\u001b[39;00m \u001b[38;5;28mlen\u001b[39m(mapped) \u001b[38;5;129;01mand\u001b[39;00m \u001b[38;5;28misinstance\u001b[39m(mapped[\u001b[38;5;241m0\u001b[39m], ABCSeries):\n\u001b[1;32m   1163\u001b[0m     \u001b[38;5;66;03m# GH#43986 Need to do list(mapped) in order to get treated as nested\u001b[39;00m\n\u001b[1;32m   1164\u001b[0m     \u001b[38;5;66;03m#  See also GH#25959 regarding EA support\u001b[39;00m\n\u001b[1;32m   1165\u001b[0m     \u001b[38;5;28;01mreturn\u001b[39;00m obj\u001b[38;5;241m.\u001b[39m_constructor_expanddim(\u001b[38;5;28mlist\u001b[39m(mapped), index\u001b[38;5;241m=\u001b[39mobj\u001b[38;5;241m.\u001b[39mindex)\n",
      "File \u001b[0;32m~/.pyenv/versions/awsdx-hackathon/lib/python3.8/site-packages/pandas/_libs/lib.pyx:2918\u001b[0m, in \u001b[0;36mpandas._libs.lib.map_infer\u001b[0;34m()\u001b[0m\n",
      "Cell \u001b[0;32mIn [12], line 27\u001b[0m, in \u001b[0;36mhex_fill_tract\u001b[0;34m(geom_geojson, res, flag_swap)\u001b[0m\n\u001b[1;32m     20\u001b[0m \u001b[38;5;124;03m\"\"\"Fill a tract with small, res 13 hexagons.\u001b[39;00m\n\u001b[1;32m     21\u001b[0m \n\u001b[1;32m     22\u001b[0m \u001b[38;5;124;03m:param geom_geojson: The polygon to fill.\u001b[39;00m\n\u001b[1;32m     23\u001b[0m \u001b[38;5;124;03m:param res: The resolution to fill the polygons with.\u001b[39;00m\n\u001b[1;32m     24\u001b[0m \u001b[38;5;124;03m:param flag_swap: A flag indicating whether the polygon is geojson conformant or swapped.\u001b[39;00m\n\u001b[1;32m     25\u001b[0m \u001b[38;5;124;03m\"\"\"\u001b[39;00m\n\u001b[1;32m     26\u001b[0m \u001b[38;5;28;01mtry\u001b[39;00m:\n\u001b[0;32m---> 27\u001b[0m     set_hexagons \u001b[38;5;241m=\u001b[39m \u001b[43mh3\u001b[49m\u001b[38;5;241;43m.\u001b[39;49m\u001b[43mcompact\u001b[49m\u001b[43m(\u001b[49m\u001b[43mh3\u001b[49m\u001b[38;5;241;43m.\u001b[39;49m\u001b[43mpolyfill\u001b[49m\u001b[43m(\u001b[49m\u001b[43mgeom_geojson\u001b[49m\u001b[43m,\u001b[49m\u001b[43m \u001b[49m\u001b[43mres\u001b[49m\u001b[43m,\u001b[49m\u001b[43m \u001b[49m\u001b[43mgeo_json_conformant\u001b[49m\u001b[43m \u001b[49m\u001b[38;5;241;43m=\u001b[39;49m\u001b[43m \u001b[49m\u001b[43mflag_swap\u001b[49m\u001b[43m)\u001b[49m\u001b[43m)\u001b[49m\n\u001b[1;32m     28\u001b[0m \u001b[38;5;28;01mexcept\u001b[39;00m \u001b[38;5;167;01mValueError\u001b[39;00m:\n\u001b[1;32m     29\u001b[0m     \u001b[38;5;28mprint\u001b[39m(\u001b[38;5;124mf\u001b[39m\u001b[38;5;124m\"\u001b[39m\u001b[38;5;124mError on data of type \u001b[39m\u001b[38;5;132;01m{\u001b[39;00mgeom_geojson[\u001b[38;5;124m'\u001b[39m\u001b[38;5;124mtype\u001b[39m\u001b[38;5;124m'\u001b[39m]\u001b[38;5;132;01m}\u001b[39;00m\u001b[38;5;124m. Continuing.\u001b[39m\u001b[38;5;124m\"\u001b[39m)\n",
      "File \u001b[0;32m~/.pyenv/versions/awsdx-hackathon/lib/python3.8/site-packages/h3/api/_api_template.py:424\u001b[0m, in \u001b[0;36m_API_FUNCTIONS.compact\u001b[0;34m(self, hexes)\u001b[0m\n\u001b[1;32m    410\u001b[0m \u001b[38;5;124;03m\"\"\"\u001b[39;00m\n\u001b[1;32m    411\u001b[0m \u001b[38;5;124;03mCompact a collection of H3 cells by combining\u001b[39;00m\n\u001b[1;32m    412\u001b[0m \u001b[38;5;124;03msmaller cells into larger cells, if all child cells\u001b[39;00m\n\u001b[0;32m   (...)\u001b[0m\n\u001b[1;32m    421\u001b[0m \u001b[38;5;124;03munordered collection of H3Cell\u001b[39;00m\n\u001b[1;32m    422\u001b[0m \u001b[38;5;124;03m\"\"\"\u001b[39;00m\n\u001b[1;32m    423\u001b[0m \u001b[38;5;66;03m# todo: does compact work on mixed-resolution collections?\u001b[39;00m\n\u001b[0;32m--> 424\u001b[0m hu \u001b[38;5;241m=\u001b[39m \u001b[38;5;28;43mself\u001b[39;49m\u001b[38;5;241;43m.\u001b[39;49m\u001b[43m_in_collection\u001b[49m\u001b[43m(\u001b[49m\u001b[43mhexes\u001b[49m\u001b[43m)\u001b[49m\n\u001b[1;32m    425\u001b[0m hc \u001b[38;5;241m=\u001b[39m _cy\u001b[38;5;241m.\u001b[39mcompact(hu)\n\u001b[1;32m    427\u001b[0m \u001b[38;5;28;01mreturn\u001b[39;00m \u001b[38;5;28mself\u001b[39m\u001b[38;5;241m.\u001b[39m_out_unordered(hc)\n",
      "File \u001b[0;32m~/.pyenv/versions/awsdx-hackathon/lib/python3.8/site-packages/h3/api/basic_str/_binding.py:22\u001b[0m, in \u001b[0;36m_in_collection\u001b[0;34m(hexes)\u001b[0m\n\u001b[1;32m     21\u001b[0m \u001b[38;5;28;01mdef\u001b[39;00m \u001b[38;5;21m_in_collection\u001b[39m(hexes):\n\u001b[0;32m---> 22\u001b[0m     it \u001b[38;5;241m=\u001b[39m [_cy\u001b[38;5;241m.\u001b[39mhex2int(h) \u001b[38;5;28;01mfor\u001b[39;00m h \u001b[38;5;129;01min\u001b[39;00m hexes]\n\u001b[1;32m     24\u001b[0m     \u001b[38;5;28;01mreturn\u001b[39;00m _cy\u001b[38;5;241m.\u001b[39mfrom_iter(it)\n",
      "File \u001b[0;32m~/.pyenv/versions/awsdx-hackathon/lib/python3.8/site-packages/h3/api/basic_str/_binding.py:22\u001b[0m, in \u001b[0;36m<listcomp>\u001b[0;34m(.0)\u001b[0m\n\u001b[1;32m     21\u001b[0m \u001b[38;5;28;01mdef\u001b[39;00m \u001b[38;5;21m_in_collection\u001b[39m(hexes):\n\u001b[0;32m---> 22\u001b[0m     it \u001b[38;5;241m=\u001b[39m [\u001b[43m_cy\u001b[49m\u001b[38;5;241;43m.\u001b[39;49m\u001b[43mhex2int\u001b[49m(h) \u001b[38;5;28;01mfor\u001b[39;00m h \u001b[38;5;129;01min\u001b[39;00m hexes]\n\u001b[1;32m     24\u001b[0m     \u001b[38;5;28;01mreturn\u001b[39;00m _cy\u001b[38;5;241m.\u001b[39mfrom_iter(it)\n",
      "\u001b[0;31mKeyboardInterrupt\u001b[0m: "
     ]
    }
   ],
   "source": [
    "def get_geodata(filepath: str):\n",
    "    gdf = read_file(filepath)\n",
    "    return (gdf\n",
    "            .astype({\"INTPTLAT\": float, \"INTPTLON\": float, \"GEOID\": \"category\"})\n",
    "            .drop([\"STATEFP\", \"COUNTYFP\", \"TRACTCE\", \"ALAND\", \"AWATER\", \"NAME\", \n",
    "                   \"NAMELSAD\", \"MTFCC\", \"FUNCSTAT\"], axis=1)\n",
    "            .rename({\"INTPTLAT\": \"lat\", \"INTPTLON\": \"lon\", \"GEOID\": \"geoid\"}, axis=1)\n",
    "           )\n",
    "\n",
    "\n",
    "def prepare_districts(gdf_districts):\n",
    "    \"\"\"Loads a geojson files of polygon geometries and features,\n",
    "    swaps the latitude and longitude andstores geojson\"\"\"    \n",
    "    return (gdf_districts\n",
    "            .assign(geom_swap_geojson = lambda x: x[\"geometry\"].map(lambda polygon: transform(\n",
    "                       lambda x, y: (y, x), polygon)).apply(lambda y: mapping(y))))\n",
    "\n",
    "\n",
    "def hex_fill_tract(geom_geojson: dict, res: int = 13, flag_swap: bool = False) -> set:\n",
    "    \"\"\"Fill a tract with small, res 13 hexagons.\n",
    "\n",
    "    :param geom_geojson: The polygon to fill.\n",
    "    :param res: The resolution to fill the polygons with.\n",
    "    :param flag_swap: A flag indicating whether the polygon is geojson conformant or swapped.\n",
    "    \"\"\"\n",
    "    try:\n",
    "        set_hexagons = h3.compact(h3.polyfill(geom_geojson, res, geo_json_conformant = flag_swap))\n",
    "    except ValueError:\n",
    "        print(f\"Error on data of type {geom_geojson['type']}. Continuing.\")\n",
    "        return set()\n",
    "    return list(set_hexagons)\n",
    "\n",
    "\n",
    "def hex_fill_df(gdf):\n",
    "    \"\"\"Fill the tracts with hexagons.\"\"\"\n",
    "    return gdf.assign(hex_fill = gdf[\"geom_swap_geojson\"].apply(hex_fill_tract))\n",
    "\n",
    "datadir = \"../data/zipfiles\"\n",
    "zipfile = os.listdir(datadir)[0]\n",
    "path = os.path.join(datadir, zipfile)\n",
    "\n",
    "gdf = (get_geodata(path)\n",
    "       .pipe(prepare_districts)\n",
    "       .pipe(hex_fill_df)\n",
    "      )"
   ]
  },
  {
   "cell_type": "code",
   "execution_count": 2,
   "id": "f26e11b1",
   "metadata": {},
   "outputs": [],
   "source": [
    "all_tracts = []\n",
    "\n",
    "for filename in os.listdir(\"../data/tract_polygons\"):\n",
    "    gdf = read_file(f\"../data/tract_polygons/{filename}/{filename}.shp\")\n",
    "    # Unify the CT boundries\n",
    "    union_poly = unary_union(gdf.geometry)\n",
    "    \n",
    "    # Convert to hexagon\n",
    "    temp  = mapping(g)\n",
    "    temp['coordinates']=[[[j[1],j[0]] for j in i] for i in temp['coordinates']]  \n",
    "    gdf['hexes'] = h3.polyfill(temp, APERTURE_SIZE)\n",
    "    all_tracts.append(gdf)\n",
    "    \n",
    "gdf = pd.concat(all_tracts)"
   ]
  },
  {
   "cell_type": "code",
   "execution_count": 9,
   "id": "f6b74be3",
   "metadata": {},
   "outputs": [],
   "source": [
    "APERTURE_SIZE = 3\n",
    "\n",
    "gdf = read_file(f\"../data/tract_polygons/tl_2020_01_tract/tl_2020_01_tract.shp\")\n",
    "union_poly = unary_union(gdf.geometry)\n",
    "temp  = mapping(union_poly)\n",
    "temp['coordinates']=[[[j[1],j[0]] for j in i] for i in temp['coordinates']]\n",
    "hexes = h3.polyfill(temp, APERTURE_SIZE)"
   ]
  },
  {
   "cell_type": "code",
   "execution_count": null,
   "id": "695166d4",
   "metadata": {},
   "outputs": [],
   "source": []
  }
 ],
 "metadata": {
  "kernelspec": {
   "display_name": "awsdx-hackathon",
   "language": "python",
   "name": "awsdx-hackathon"
  },
  "language_info": {
   "codemirror_mode": {
    "name": "ipython",
    "version": 3
   },
   "file_extension": ".py",
   "mimetype": "text/x-python",
   "name": "python",
   "nbconvert_exporter": "python",
   "pygments_lexer": "ipython3",
   "version": "3.8.13"
  }
 },
 "nbformat": 4,
 "nbformat_minor": 5
}
